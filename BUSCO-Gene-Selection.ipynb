{
 "cells": [
  {
   "cell_type": "code",
   "execution_count": 391,
   "metadata": {},
   "outputs": [],
   "source": [
    "import glob\n",
    "import os\n",
    "import pandas as pd\n",
    "import matplotlib as mpl\n",
    "import matplotlib.pyplot as plt\n",
    "import seaborn as sns\n",
    "from datetime import date\n",
    "from Bio.SeqRecord import SeqRecord\n",
    "from Bio.Seq import Seq\n",
    "from Bio import SeqIO"
   ]
  },
  {
   "cell_type": "code",
   "execution_count": 392,
   "metadata": {},
   "outputs": [],
   "source": [
    "#EUKaryota genes\n",
    "og_path = '/vortexfs1/omics/alexander/halexander/2020-05-euk-abund/phylogenomics/reference-genomes/busco_downloads/lineages/eukaryota_odb10/info/ogs.id.info'\n",
    "BUSCO_LIST = list(set(list(pd.read_csv(og_path, sep='\\t', header=None)[1])))"
   ]
  },
  {
   "cell_type": "code",
   "execution_count": 393,
   "metadata": {},
   "outputs": [
    {
     "data": {
      "text/plain": [
       "['/vortexfs1/omics/alexander/halexander/2020-05-euk-abund/metaeuk/busco/eukaryota_odb10']"
      ]
     },
     "execution_count": 393,
     "metadata": {},
     "output_type": "execute_result"
    }
   ],
   "source": [
    "#BASE PATH TO MAG BUSCO RUNS\n",
    "BASE_PATH=os.path.join('/vortexfs1/omics/alexander/halexander/2020-05-euk-abund/metaeuk/busco/eukaryota_odb10')\n",
    "                       \n",
    "glob.glob(BASE_PATH)\n",
    "                       "
   ]
  },
  {
   "cell_type": "code",
   "execution_count": 29,
   "metadata": {},
   "outputs": [],
   "source": [
    "busco = pd.read_csv('/vortexfs1/omics/alexander/halexander/2020-05-euk-abund/metaeuk/busco-report.tsv', \n",
    "            sep='\\t', index_col=0)\n",
    "busco['Proportion_Complete'] = (busco.Complete + busco.Fragmented)/255\n",
    "busco['Proportion_Complete'] = (busco.Complete) /255\n",
    "complete_bins = busco.loc[busco.Proportion_Complete>=.5].index\n"
   ]
  },
  {
   "cell_type": "code",
   "execution_count": null,
   "metadata": {},
   "outputs": [],
   "source": [
    "complete_bins."
   ]
  },
  {
   "cell_type": "markdown",
   "metadata": {},
   "source": [
    "# Loop through identified completed MAGs (>50% BUSCO) and create a table that contains a boolean related to the presence / absence of the protein within the MAG"
   ]
  },
  {
   "cell_type": "code",
   "execution_count": 370,
   "metadata": {},
   "outputs": [],
   "source": [
    "i=complete_bins[0]\n",
    "busco_completeness_df = pd.DataFrame(columns = complete_bins,index=BUSCO_LIST)\n",
    "busco_completeness_df=busco_completeness_df.fillna(0)\n",
    "busco_completeness_fragmented_df=busco_completeness_df.fillna(0)\n",
    "for i in complete_bins:\n",
    "    df=pd.read_csv(os.path.join(BASE_PATH, i, 'run_eukaryota_odb10', \n",
    "                'full_table.tsv'), sep='\\t', header=2, index_col=0)\n",
    "    complete=df.loc[df.Status == 'Complete'].index\n",
    "    fragmented=df.loc[df.Status == 'Fragmented'].index\n",
    "    busco_completeness_df.loc[complete,i]=1\n",
    "    busco_completeness_fragmented_df.loc[fragmented,i]=1\n",
    "    busco_completeness_fragmented_df.loc[complete,i]=1"
   ]
  },
  {
   "cell_type": "code",
   "execution_count": 139,
   "metadata": {},
   "outputs": [
    {
     "data": {
      "text/plain": [
       "<matplotlib.axes._subplots.AxesSubplot at 0x2aab2d1110f0>"
      ]
     },
     "execution_count": 139,
     "metadata": {},
     "output_type": "execute_result"
    },
    {
     "data": {
      "image/png": "[encoded data removed]",
      "text/plain": [
       "<Figure size 432x288 with 1 Axes>"
      ]
     },
     "metadata": {
      "needs_background": "light"
     },
     "output_type": "display_data"
    }
   ],
   "source": [
    "# Plot of the relative coverage of protins across buscos\n",
    "(busco_completeness_df.sum(axis=1)/len(busco_completeness_df.columns)).hist(bins=20)"
   ]
  },
  {
   "cell_type": "markdown",
   "metadata": {},
   "source": [
    "# 49 of the BUSCO unitigs are present within >80% of the MAGs-- but it is still kind of patchy. "
   ]
  },
  {
   "cell_type": "code",
   "execution_count": 105,
   "metadata": {},
   "outputs": [],
   "source": [
    "#80% Protein group list\n",
    "busco_80=busco_completeness_df.loc[(busco_completeness_df.sum(axis=1)/\n",
    "                           len(busco_completeness_df.columns))>=.8].index"
   ]
  },
  {
   "cell_type": "code",
   "execution_count": 128,
   "metadata": {},
   "outputs": [],
   "source": [
    "#retrieve the instances where a protein is complete or partial \n",
    "Busco_80_test = busco_completeness_fragmented_df.loc[:,(busco_completeness_fragmented_df.loc[busco_80].sum()/49)>.9]\n",
    "Busco_80_test=Busco_80_test.loc[busco_80]"
   ]
  },
  {
   "cell_type": "code",
   "execution_count": 388,
   "metadata": {},
   "outputs": [],
   "source": [
    "# Get only the 49 Proteins from all MAGs which have at least 90% of those proteins \n",
    "proteins = Busco_80_test.index\n",
    "MAGs = Busco_80_test.columns\n",
    "ALL_MAGS = complete_bins"
   ]
  },
  {
   "cell_type": "code",
   "execution_count": 386,
   "metadata": {},
   "outputs": [
    {
     "data": {
      "text/plain": [
       "Index(['RS-all-SRF-0-8-5-00_bin-105', 'SPO-all-SRF-0-8-5-00_bin-190',\n",
       "       'NAO-all-MES-0-8-5-00_bin-73', 'NAO-all-SRF-0-8-5-00_bin-17',\n",
       "       'SPO-SPSG-MIX-0-8-5-00_bin-132', 'MS-all-DCM-0-8-5-00_bin-224',\n",
       "       'MS-all-DCM-0-8-5-00_bin-636', 'SPO-all-SRF-5-20-00_bin-108',\n",
       "       'SPO-SPSG-DCM-0-8-5-00_bin-172', 'SPO-SPSG-SRF-0-8-5-00_bin-560',\n",
       "       ...\n",
       "       'SPO-SPSG-DCM-5-20-00_bin-40', 'MS-all-SRF-0-8-5-00_bin-123',\n",
       "       'SPO-SPSG-MES-0-8-5-00_bin-179', 'SAO-all-DCM-0-8-5-00_bin-428',\n",
       "       'SPO-SPSG-SRF-0-8-5-00_bin-658', 'SPO-SPSG-SRF-0-8-5-00_bin-277',\n",
       "       'NAO-all-DCM-0-8-5-00_bin-77', 'SAO-all-DCM-0-8-5-00_bin-2',\n",
       "       'SPO-CHIL-DCM-0-8-5-00_bin-46', 'IO-all-SRF-0-8-5-00_bin-89'],\n",
       "      dtype='object', length=234)"
      ]
     },
     "execution_count": 386,
     "metadata": {},
     "output_type": "execute_result"
    }
   ],
   "source": [
    "ALL_MAGS"
   ]
  },
  {
   "cell_type": "code",
   "execution_count": 383,
   "metadata": {},
   "outputs": [
    {
     "data": {
      "text/plain": [
       "NPO-all-SRF-20-180-00_bin-86      32\n",
       "SAO-all-SRF-0-8-5-00_bin-141      32\n",
       "SAO-all-SRF-20-180-00_bin-71      33\n",
       "NPO-all-SRF-180-2000-00_bin-18    33\n",
       "IO-all-SRF-20-180-00_bin-30       33\n",
       "SAO-all-DCM-0-8-5-00_bin-428      34\n",
       "MS-all-SRF-5-20-00_bin-9          34\n",
       "SAO-all-SRF-0-8-5-00_bin-590      34\n",
       "SAO-all-SRF-180-2000-00_bin-37    34\n",
       "MS-all-DCM-20-180-00_bin-15       34\n",
       "SPO-SPSG-SRF-0-8-5-00_bin-658     35\n",
       "SAO-all-DCM-0-8-5-00_bin-200      35\n",
       "SPO-all-SRF-0-8-5-00_bin-226      36\n",
       "NAO-all-MIX-0-8-5-00_bin-132      36\n",
       "MS-all-SRF-20-180-00_bin-4        37\n",
       "SPO-SPSG-MIX-0-8-5-00_bin-106     37\n",
       "IO-all-SRF-0-8-5-00_bin-126       37\n",
       "SPO-all-SRF-0-8-5-00_bin-551      37\n",
       "RS-all-SRF-0-8-5-00_bin-7         37\n",
       "SAO-all-DCM-0-8-5-00_bin-594      37\n",
       "NAO-all-SRF-0-8-5-00_bin-253      38\n",
       "SPO-SPSG-SRF-0-8-5-00_bin-663     38\n",
       "MS-all-SRF-20-180-00_bin-27       38\n",
       "MS-all-SRF-0-8-5-00_bin-479       38\n",
       "SAO-all-DCM-0-8-5-00_bin-322      38\n",
       "MS-all-SRF-0-8-5-00_bin-131       38\n",
       "IO-all-DCM-0-8-5-00_bin-157       38\n",
       "MS-all-SRF-5-20-00_bin-93         39\n",
       "SPO-SPSG-SRF-0-8-5-00_bin-82      39\n",
       "NPO-all-SRF-0-8-5-00_bin-105      39\n",
       "                                  ..\n",
       "NPO-all-DCM-5-20-00_bin-42        48\n",
       "NAO-all-MES-0-8-5-00_bin-372      48\n",
       "NAO-all-MES-0-8-5-00_bin-73       49\n",
       "MS-all-SRF-0-8-5-00_bin-93        49\n",
       "SPO-SPSG-DCM-0-8-5-00_bin-172     49\n",
       "SAO-all-DCM-0-8-5-00_bin-43       49\n",
       "SAO-all-SRF-0-8-5-00_bin-212      49\n",
       "SAO-all-DCM-0-8-5-00_bin-564      49\n",
       "IO-all-DCM-0-8-5-00_bin-353       49\n",
       "RS-all-SRF-0-8-5-00_bin-17        49\n",
       "SPO-all-SRF-0-8-5-00_bin-867      49\n",
       "SPO-SPSG-SRF-0-8-5-00_bin-608     49\n",
       "SPO-PEOD-DCM-0-8-5-00_bin-41      49\n",
       "NPO-all-SRF-0-8-5-00_bin-232      49\n",
       "NAO-all-MIX-0-8-5-00_bin-96       49\n",
       "SPO-CHIL-SRF-0-8-5-00_bin-39      49\n",
       "IO-all-FSW-0-8-5-00_bin-88        49\n",
       "SAO-all-SRF-0-8-5-00_bin-284      49\n",
       "SPO-all-SRF-0-8-5-00_bin-906      49\n",
       "NAO-all-SRF-0-8-5-00_bin-507      49\n",
       "IO-all-SRF-0-8-5-00_bin-538       49\n",
       "NAO-all-MES-0-8-5-00_bin-268      49\n",
       "SPO-SPSG-DCM-0-8-5-00_bin-173     49\n",
       "NPO-all-SRF-0-8-5-00_bin-407      49\n",
       "IO-all-SRF-0-8-5-00_bin-250       49\n",
       "SAO-all-DCM-0-8-5-00_bin-343      49\n",
       "SAO-all-SRF-0-8-5-00_bin-484      49\n",
       "SPO-all-DCM-0-8-5-00_bin-575      49\n",
       "IO-all-DCM-0-8-5-00_bin-323       49\n",
       "RS-all-SRF-0-8-5-00_bin-105       49\n",
       "Length: 234, dtype: int64"
      ]
     },
     "execution_count": 383,
     "metadata": {},
     "output_type": "execute_result"
    }
   ],
   "source": [
    "(busco_completeness_fragmented_df.loc[busco_80].sum()).sort_values()"
   ]
  },
  {
   "cell_type": "markdown",
   "metadata": {},
   "source": [
    "# Reference genomes\n"
   ]
  },
  {
   "cell_type": "code",
   "execution_count": 394,
   "metadata": {},
   "outputs": [],
   "source": [
    "# Reference Genomes BUSCO hits\n",
    "REF_DIR='/vortexfs1/omics/alexander/halexander/2020-05-euk-abund/phylogenomics/reference-genomes/busco/eukaryota_odb10'\n",
    "\n",
    "REF_GENOMES=[]\n",
    "for o in glob.glob(os.path.join(REF_DIR,'*')):\n",
    "    REF_GENOMES.append(os.path.basename(o))\n",
    "\n",
    "REF_busco_completeness_df = pd.DataFrame(columns = REF_GENOMES,index=BUSCO_LIST)\n",
    "REF_busco_completeness_df=REF_busco_completeness_df.fillna(0)\n",
    "REF_busco_completeness_fragmented_df=REF_busco_completeness_df.fillna(0)\n",
    "for i in REF_GENOMES:\n",
    "    df=pd.read_csv(os.path.join(REF_DIR, i, 'run_eukaryota_odb10', \n",
    "                'full_table.tsv'), sep='\\t', header=2, index_col=0)\n",
    "    complete=df.loc[df.Status == 'Complete'].index\n",
    "    fragmented=df.loc[df.Status == 'Fragmented'].index\n",
    "    REF_busco_completeness_df.loc[complete,i]=1\n",
    "    REF_busco_completeness_fragmented_df.loc[fragmented,i]=1\n",
    "    REF_busco_completeness_fragmented_df.loc[complete,i]=1\n"
   ]
  },
  {
   "cell_type": "code",
   "execution_count": 395,
   "metadata": {},
   "outputs": [
    {
     "data": {
      "text/plain": [
       "Partet1        22\n",
       "Brafl1         24\n",
       "Phaglo1        31\n",
       "Symmic1        31\n",
       "Mintr2         32\n",
       "Phaant1        33\n",
       "Oxytri1        34\n",
       "Plafal1        35\n",
       "Dunsal1        35\n",
       "Pavlov2436     36\n",
       "Ochro2298      38\n",
       "Crypto2293     39\n",
       "Blahom1        40\n",
       "Chrsp          41\n",
       "Claok1         42\n",
       "Fracy1         42\n",
       "Toxgon1        42\n",
       "Amoce1         43\n",
       "Auran1         43\n",
       "Pencop1        43\n",
       "Schag1         44\n",
       "Tetthe1        44\n",
       "Chytri1        44\n",
       "Cioin2         44\n",
       "Bigna1         45\n",
       "Physo3         45\n",
       "Naegr1         45\n",
       "Cyccr1         45\n",
       "Vitbras1       45\n",
       "Thaps3         45\n",
       "               ..\n",
       "Nansal1776     46\n",
       "Phyinf1        46\n",
       "Dicpu1         46\n",
       "Psemu1         47\n",
       "Asplep1        47\n",
       "Guith1         47\n",
       "Chlre5         47\n",
       "Capca1         47\n",
       "Aurli1         47\n",
       "MicpuN3v2      47\n",
       "Lotgi1         47\n",
       "Chrpa1         47\n",
       "Aplke1         47\n",
       "Dappu1         47\n",
       "Altfr1         48\n",
       "Ost9901_3      48\n",
       "Phyci1         48\n",
       "Batpra1        48\n",
       "Phatr2         48\n",
       "Pelago2097     48\n",
       "Botmuc1        48\n",
       "Triad1         48\n",
       "MicpuC3v2      48\n",
       "Ostta4221      49\n",
       "Monbr1         49\n",
       "Takru4         49\n",
       "Ascra1         49\n",
       "Claba1         49\n",
       "Helro1         49\n",
       "OstRCC809_2    49\n",
       "Length: 66, dtype: int64"
      ]
     },
     "execution_count": 395,
     "metadata": {},
     "output_type": "execute_result"
    }
   ],
   "source": [
    "(REF_busco_completeness_fragmented_df.loc[busco_80].sum()).sort_values()"
   ]
  },
  {
   "cell_type": "code",
   "execution_count": 396,
   "metadata": {},
   "outputs": [],
   "source": [
    "\n",
    "MAGs = ALL_MAGS\n",
    "\n",
    "for j, o in enumerate(proteins):\n",
    "    all_og=[]\n",
    "    outdir  = os.path.join('extracted', str(date.today()))\n",
    "    if not os.path.exists(outdir):\n",
    "        os.makedirs(outdir)\n",
    "    og_file = os.path.join('extracted', str(date.today()),o+'.concatenated.faa')\n",
    "    for i, m in enumerate(MAGs):\n",
    "        og_path=''\n",
    "        complete_path = os.path.join(BASE_PATH, m, \n",
    "                'run_eukaryota_odb10','busco_sequences',\n",
    "                'single_copy_busco_sequences', o+'.faa')\n",
    "        frag_path = os.path.join(BASE_PATH, m, \n",
    "                'run_eukaryota_odb10','busco_sequences',\n",
    "                'fragmented_busco_sequences', o+'.faa')\n",
    "        #check for complete OG first\n",
    "        if os.path.isfile(complete_path):\n",
    "            og_path = complete_path\n",
    "        #check for fragmented OG\n",
    "        elif os.path.isfile(frag_path):\n",
    "            og_path = frag_path\n",
    "        #Otherwise just skip it... \n",
    "        if og_path!='':\n",
    "            for record in SeqIO.parse(og_path, \"fasta\"):\n",
    "                record.id = m\n",
    "                record.name=m\n",
    "                all_og.append(record)\n",
    "        #create an empty sequence record with an 'X'-- undetermined amino acid. \n",
    "        else: \n",
    "            record = SeqRecord(Seq(\"-\"),id=m,name=m,description=\"no-record\")\n",
    "            all_og.append(record)\n",
    "    for i, m in enumerate(REF_GENOMES):\n",
    "        og_path=''\n",
    "        complete_path = os.path.join(REF_DIR, m, \n",
    "                'run_eukaryota_odb10','busco_sequences',\n",
    "                'single_copy_busco_sequences', o+'.faa')\n",
    "        frag_path = os.path.join(REF_DIR, m, \n",
    "                'run_eukaryota_odb10','busco_sequences',\n",
    "                'fragmented_busco_sequences', o+'.faa')\n",
    "        #check for complete OG first\n",
    "        if os.path.isfile(complete_path):\n",
    "            og_path = complete_path\n",
    "        #check for fragmented OG\n",
    "        elif os.path.isfile(frag_path):\n",
    "            og_path = frag_path\n",
    "        #Otherwise just skip it... \n",
    "        if og_path!='':\n",
    "            for record in SeqIO.parse(og_path, \"fasta\"):\n",
    "                record.id = m\n",
    "                record.name=m\n",
    "                all_og.append(record)\n",
    "        #create an empty sequence record with an 'X'-- undetermined amino acid. \n",
    "        else: \n",
    "            record = SeqRecord(Seq(\"-\"),id=m,name=m,description=\"no-record\")\n",
    "            all_og.append(record)\n",
    "    with open(og_file, \"w\") as outfasta:\n",
    "        SeqIO.write(all_og, outfasta,'fasta')\n",
    "    with open(os.path.join('extracted', str(date.today()),'ALLMAGS.list'), 'w') as f:\n",
    "        f.write('\\n'.join(MAGs))\n",
    "        f.write('\\n')\n",
    "        f.write('\\n'.join(REF_GENOMES))"
   ]
  },
  {
   "cell_type": "code",
   "execution_count": null,
   "metadata": {},
   "outputs": [],
   "source": []
  }
 ],
 "metadata": {
  "kernelspec": {
   "display_name": "Python [conda env:.conda-python_lab] *",
   "language": "python",
   "name": "conda-env-.conda-python_lab-py"
  },
  "language_info": {
   "codemirror_mode": {
    "name": "ipython",
    "version": 3
   },
   "file_extension": ".py",
   "mimetype": "text/x-python",
   "name": "python",
   "nbconvert_exporter": "python",
   "pygments_lexer": "ipython3",
   "version": "3.7.3"
  }
 },
 "nbformat": 4,
 "nbformat_minor": 2
}
